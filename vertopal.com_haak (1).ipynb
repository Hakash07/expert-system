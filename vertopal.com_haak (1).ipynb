{
 "cells": [
  {
   "cell_type": "markdown",
   "metadata": {},
   "source": [
    "T= int(input(“Temperature:”)) H,A,W,C= input(“Enter four\n",
    "values:”).split() print(“Temperature:”, T) print(“Humidity:”, H)\n",
    "print(“Atmospheric pressure:”, A) print(“Wind:” , W) print(“Chillness:”,\n",
    "C) if((T\\>=35) and (H==“yes”) and (A==“yes”) and (W==“yes”) and\n",
    "(C==“yes”)): print(“Rainy”) elif((T\\>=35) and (H==“yes”) and (A==“yes”)\n",
    "and (W==“no”) and (C==“no”)): print(“Hazy”) elif((T\\<35) and (H==“yes”)\n",
    "and (A==“yes”) and (W==“no”) and (C==“no”)): print(“Cloudy”)\n",
    "elif((T\\<35) and (H==“yes”) and (A==“yes”) and (W==“yes”) and\n",
    "(C==“yes”)): print(“winter”)"
   ]
  }
 ],
 "nbformat": 4,
 "nbformat_minor": 5,
 "metadata": {}
}
